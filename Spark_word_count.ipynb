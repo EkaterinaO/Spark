{
 "cells": [
  {
   "cell_type": "markdown",
   "metadata": {},
   "source": [
    "The task\n",
    "\n",
    "1) File: http://www.almhuette-raith.at/apache-log/access.log\n",
    "\n",
    "2) Use PySpark to processing this log\n",
    "\n",
    "3) Reduce the set to only records with the 404 response code\n",
    "\n",
    "4) Get the request field like “GET /icons/text.gif HTTP/1.1”\n",
    "\n",
    "5) Get the URI from the request “/icons/text.gif”\n",
    "\n",
    "6) Get top 10 unique URIs. \n",
    "\n",
    "7) Send me your program with the result file"
   ]
  },
  {
   "cell_type": "code",
   "execution_count": 18,
   "metadata": {
    "collapsed": true
   },
   "outputs": [],
   "source": [
    "import pyspark\n",
    "import wget\n",
    "import re \n",
    "from operator import add\n",
    "from operator import itemgetter\n",
    "import pandas as pd"
   ]
  },
  {
   "cell_type": "code",
   "execution_count": 2,
   "metadata": {
    "collapsed": true
   },
   "outputs": [],
   "source": [
    "sc = pyspark.SparkContext('local[*]')"
   ]
  },
  {
   "cell_type": "code",
   "execution_count": 3,
   "metadata": {},
   "outputs": [
    {
     "data": {
      "text/plain": [
       "[601, 634, 585, 111, 680]"
      ]
     },
     "execution_count": 3,
     "metadata": {},
     "output_type": "execute_result"
    }
   ],
   "source": [
    "# just to check it is working \n",
    "rdd = sc.parallelize(range(1000))\n",
    "rdd.takeSample(False, 5)\n"
   ]
  },
  {
   "cell_type": "code",
   "execution_count": 5,
   "metadata": {},
   "outputs": [],
   "source": [
    "logs = wget.download('http://www.almhuette-raith.at/apache-log/access.log')\n",
    "#logs = 'access.log'"
   ]
  },
  {
   "cell_type": "code",
   "execution_count": 6,
   "metadata": {},
   "outputs": [
    {
     "name": "stdout",
     "output_type": "stream",
     "text": [
      "number of lines in file: 1485704\n",
      "number of characters in file: 298798468\n"
     ]
    }
   ],
   "source": [
    "file_in = sc.textFile(logs)\n",
    "print('number of lines in file: %s' % file_in.count())\n",
    "chars = file_in.map(lambda s: len(s)).reduce(add)\n",
    "print('number of characters in file: %s' % chars)\n"
   ]
  },
  {
   "cell_type": "code",
   "execution_count": 16,
   "metadata": {},
   "outputs": [],
   "source": [
    "input = sc.textFile(logs)\n",
    "# resular expression for the 404 and GET /icons/text.gif HTTP/1.1 conditions\n",
    "# examle of log\n",
    "#83.167.113.100 - - [12/Dec/2015:18:31:25 +0100] \"POST /administrator/index.php HTTP/1.1\" 200 4494 \"http://almhuette-raith.at/administrator/\" \"Mozilla/5.0 (Windows NT 6.0; rv:34.0) Gecko/20100101 Firefox/34.0\" \"-\"\n",
    "#109.169.248.247 - - [12/Dec/2015:18:25:11 +0100] \"GET /administrator/ HTTP/1.1\" 200 4263 \"-\" \"Mozilla/5.0 (Windows NT 6.0; rv:34.0) Gecko/20100101 Firefox/34.0\" \"-\"\n",
    "reg = re.compile(r'^.* - - \\[.*\\] \"GET \\/icons\\/text\\.gif HTTP\\/1\\.1\" 404 [0-9-]+ \"(.*)\" \".*\" \".*\"$')\n",
    "\n",
    "top_uri = input \\\n",
    "    .map(lambda line: re.match(reg, line)) \\\n",
    "    .filter(lambda match: match != None) \\\n",
    "    .map(lambda match: match.groups()[0]) \\\n",
    "    # removing '-' from the dictionary\n",
    "    .filter(lambda match: match.split()[0] != '-') \\\n",
    "    .map(lambda request: request.split()[0]) \\\n",
    "    .countByValue()\n",
    "    "
   ]
  },
  {
   "cell_type": "code",
   "execution_count": 17,
   "metadata": {},
   "outputs": [
    {
     "data": {
      "text/plain": [
       "defaultdict(int,\n",
       "            {'http://almhuette-raith.at/apache-log/': 26,\n",
       "             'http://www.almhuette-raith.at/apache-log/': 310,\n",
       "             'http://www.almhuette-raith.at/apache-log/?D=A': 4,\n",
       "             'http://www.almhuette-raith.at/apache-log/?D=D': 2,\n",
       "             'http://www.almhuette-raith.at/apache-log/?M=A': 3,\n",
       "             'http://www.almhuette-raith.at/apache-log/?N=A': 1,\n",
       "             'http://www.almhuette-raith.at/apache-log/?N=D': 1,\n",
       "             'http://www.almhuette-raith.at/apache-log/?S=A': 1})"
      ]
     },
     "execution_count": 17,
     "metadata": {},
     "output_type": "execute_result"
    }
   ],
   "source": [
    "top_uri"
   ]
  },
  {
   "cell_type": "code",
   "execution_count": 24,
   "metadata": {},
   "outputs": [],
   "source": [
    "# saving result to pandas DataFrame\n",
    "df = pd.DataFrame.from_dict(top_uri, orient = 'index')"
   ]
  },
  {
   "cell_type": "code",
   "execution_count": 26,
   "metadata": {},
   "outputs": [],
   "source": [
    "#saving to csv file\n",
    "df.to_csv('result.csv')"
   ]
  }
 ],
 "metadata": {
  "kernelspec": {
   "display_name": "Python 3",
   "language": "python",
   "name": "python3"
  },
  "language_info": {
   "codemirror_mode": {
    "name": "ipython",
    "version": 3
   },
   "file_extension": ".py",
   "mimetype": "text/x-python",
   "name": "python",
   "nbconvert_exporter": "python",
   "pygments_lexer": "ipython3",
   "version": "3.6.3"
  }
 },
 "nbformat": 4,
 "nbformat_minor": 2
}
